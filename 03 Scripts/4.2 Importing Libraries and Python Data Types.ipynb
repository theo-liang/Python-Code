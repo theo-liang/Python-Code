{
 "cells": [
  {
   "cell_type": "markdown",
   "id": "006e9d86-13a8-4ccd-a3b2-c087fbbfdb62",
   "metadata": {},
   "source": [
    "# Importing Libraries and Python Data Types"
   ]
  },
  {
   "cell_type": "markdown",
   "id": "963f52a6-4f0b-4180-8d36-535829546688",
   "metadata": {},
   "source": [
    "## Table of Contents"
   ]
  },
  {
   "cell_type": "markdown",
   "id": "2c8500d5-ad8f-4ec1-805c-85dc063f131a",
   "metadata": {},
   "source": [
    "#### 1. Importing Libraries\n",
    "#### 2. Data types"
   ]
  },
  {
   "cell_type": "markdown",
   "id": "660f8b05-36ad-4f3a-acdf-7f82880006d0",
   "metadata": {},
   "source": [
    "# 01. Importing libraries"
   ]
  },
  {
   "cell_type": "code",
   "execution_count": 3,
   "id": "0e6e9508-ee2e-4e1f-af1e-4a1d53990acf",
   "metadata": {},
   "outputs": [],
   "source": [
    "# Import libraries\n",
    "import pandas as pd\n",
    "import numpy as np\n",
    "import os"
   ]
  },
  {
   "cell_type": "markdown",
   "id": "87d28f4b-ef6a-4ccb-956d-74dc513b48af",
   "metadata": {},
   "source": [
    "# 02. Data types"
   ]
  },
  {
   "cell_type": "code",
   "execution_count": 5,
   "id": "1a2583bc-e599-4227-b4e6-acfd604f5aa6",
   "metadata": {},
   "outputs": [],
   "source": [
    "x = 1"
   ]
  },
  {
   "cell_type": "code",
   "execution_count": 7,
   "id": "a303b2f7-20c0-4049-bf29-ac2fd692a20c",
   "metadata": {},
   "outputs": [],
   "source": [
    "y = 99"
   ]
  },
  {
   "cell_type": "code",
   "execution_count": 9,
   "id": "f4a73013-c33c-4a2d-8247-38bf2a963fe6",
   "metadata": {},
   "outputs": [
    {
     "data": {
      "text/plain": [
       "100"
      ]
     },
     "execution_count": 9,
     "metadata": {},
     "output_type": "execute_result"
    }
   ],
   "source": [
    "x + y"
   ]
  },
  {
   "cell_type": "code",
   "execution_count": 11,
   "id": "5e66b4b5-deed-484c-9885-66cd0b33ee16",
   "metadata": {},
   "outputs": [],
   "source": [
    "a = 50"
   ]
  },
  {
   "cell_type": "code",
   "execution_count": 13,
   "id": "fef0da6e-9b18-4f05-bc43-57efdf3fd15b",
   "metadata": {},
   "outputs": [],
   "source": [
    "b= 50"
   ]
  },
  {
   "cell_type": "code",
   "execution_count": 15,
   "id": "38d8f6d4-e55c-48b8-8484-afa0c2313db1",
   "metadata": {},
   "outputs": [
    {
     "data": {
      "text/plain": [
       "100"
      ]
     },
     "execution_count": 15,
     "metadata": {},
     "output_type": "execute_result"
    }
   ],
   "source": [
    "a + b"
   ]
  },
  {
   "cell_type": "code",
   "execution_count": 17,
   "id": "112a3bce-3d95-4810-8c74-617d28b33640",
   "metadata": {},
   "outputs": [],
   "source": [
    "c = 1000"
   ]
  },
  {
   "cell_type": "code",
   "execution_count": 19,
   "id": "3ad17f27-7198-4fbc-8cdc-27c24bb961c8",
   "metadata": {},
   "outputs": [],
   "source": [
    "d = 900"
   ]
  },
  {
   "cell_type": "code",
   "execution_count": 21,
   "id": "06ae9d66-3de6-4968-9457-f350a2d733bd",
   "metadata": {},
   "outputs": [
    {
     "data": {
      "text/plain": [
       "100"
      ]
     },
     "execution_count": 21,
     "metadata": {},
     "output_type": "execute_result"
    }
   ],
   "source": [
    "c - d"
   ]
  },
  {
   "cell_type": "code",
   "execution_count": 23,
   "id": "59ab18b6-65be-44ca-af9a-b5db0854b46e",
   "metadata": {},
   "outputs": [],
   "source": [
    "e = 123.45"
   ]
  },
  {
   "cell_type": "code",
   "execution_count": 25,
   "id": "f10ca469-3fef-4958-96d4-b0642ef782fe",
   "metadata": {},
   "outputs": [],
   "source": [
    "f = 9.876"
   ]
  },
  {
   "cell_type": "code",
   "execution_count": 27,
   "id": "33d4f34a-bfba-4a25-bb81-547947759c2e",
   "metadata": {},
   "outputs": [
    {
     "data": {
      "text/plain": [
       "12.500000000000002"
      ]
     },
     "execution_count": 27,
     "metadata": {},
     "output_type": "execute_result"
    }
   ],
   "source": [
    "e / f"
   ]
  },
  {
   "cell_type": "code",
   "execution_count": 29,
   "id": "ed1815b2-a617-4c4d-b917-5389e11109b1",
   "metadata": {},
   "outputs": [],
   "source": [
    "g = 'basket'"
   ]
  },
  {
   "cell_type": "code",
   "execution_count": 31,
   "id": "03389636-aeef-4ab3-81b2-e6862deb2480",
   "metadata": {},
   "outputs": [],
   "source": [
    "h = 'ball'"
   ]
  },
  {
   "cell_type": "code",
   "execution_count": 33,
   "id": "efcc2130-be03-4fa9-9113-56398db7aeb5",
   "metadata": {},
   "outputs": [
    {
     "data": {
      "text/plain": [
       "'basketball'"
      ]
     },
     "execution_count": 33,
     "metadata": {},
     "output_type": "execute_result"
    }
   ],
   "source": [
    "g + h"
   ]
  },
  {
   "cell_type": "code",
   "execution_count": 35,
   "id": "551c6e82-04aa-4e62-b75d-ebfdf434820d",
   "metadata": {},
   "outputs": [],
   "source": [
    "i = 'This is sentence number one. '"
   ]
  },
  {
   "cell_type": "code",
   "execution_count": 37,
   "id": "0ebd5737-8c14-47f0-9ec2-5050d01647a3",
   "metadata": {},
   "outputs": [],
   "source": [
    "j = 'This is sentence number two.'"
   ]
  },
  {
   "cell_type": "code",
   "execution_count": 39,
   "id": "8f900427-2fe2-4be7-b29b-b5ebfccf4085",
   "metadata": {},
   "outputs": [
    {
     "data": {
      "text/plain": [
       "'This is sentence number one. This is sentence number two.'"
      ]
     },
     "execution_count": 39,
     "metadata": {},
     "output_type": "execute_result"
    }
   ],
   "source": [
    "i + j"
   ]
  }
 ],
 "metadata": {
  "kernelspec": {
   "display_name": "Python 3 (ipykernel)",
   "language": "python",
   "name": "python3"
  },
  "language_info": {
   "codemirror_mode": {
    "name": "ipython",
    "version": 3
   },
   "file_extension": ".py",
   "mimetype": "text/x-python",
   "name": "python",
   "nbconvert_exporter": "python",
   "pygments_lexer": "ipython3",
   "version": "3.11.7"
  }
 },
 "nbformat": 4,
 "nbformat_minor": 5
}
